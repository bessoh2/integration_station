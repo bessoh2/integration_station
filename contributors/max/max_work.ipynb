{
 "cells": [
  {
   "cell_type": "code",
   "execution_count": 6,
   "id": "proud-short",
   "metadata": {},
   "outputs": [],
   "source": [
    "# standard imports\n",
    "import numpy as np\n",
    "import matplotlib.pyplot as plt \n",
    "import datetime\n",
    "import sys\n",
    "import geopandas as gpd\n",
    "import pandas as pd\n",
    "import seaborn as sns\n",
    "import os\n",
    "sns.set()"
   ]
  },
  {
   "cell_type": "markdown",
   "id": "latin-render",
   "metadata": {},
   "source": [
    "## Cryosat-2\n",
    "You need to download the read-cryosat-2 tools and install them in your home directory.\n",
    "In a terminal window, navigate to /home/jovyan/\n",
    "\n",
    "Then:\n",
    "\n",
    "`python3 -m pip install --user git+https://github.com/tsutterley/read-cryosat-2.git`"
   ]
  },
  {
   "cell_type": "code",
   "execution_count": null,
   "id": "sharing-mount",
   "metadata": {},
   "outputs": [],
   "source": [
    "from cryosat_toolkit.polygon import polygon"
   ]
  },
  {
   "cell_type": "code",
   "execution_count": null,
   "id": "exceptional-specific",
   "metadata": {},
   "outputs": [],
   "source": [
    "ls"
   ]
  },
  {
   "cell_type": "code",
   "execution_count": null,
   "id": "heavy-condition",
   "metadata": {},
   "outputs": [],
   "source": [
    "cs2_bound = gpd.read_file('CryoSat_Mask_4.0.kmz')"
   ]
  },
  {
   "cell_type": "code",
   "execution_count": null,
   "id": "realistic-standard",
   "metadata": {},
   "outputs": [],
   "source": [
    "f1,a1 = plt.subplots(figsize=(10,5))\n",
    "cs2_bound.plot(ax=a1)\n",
    "a1.set_ylim(20,60)\n",
    "a1.set_xlim(-130,-90)\n",
    "f1.tight_layout()"
   ]
  },
  {
   "cell_type": "code",
   "execution_count": null,
   "id": "delayed-modern",
   "metadata": {},
   "outputs": [],
   "source": [
    "bounding_box_GM = [-108.19, 39.03, -108.18, 39.04]\n",
    "lon_pts = [bounding_box_GM[0],bounding_box_GM[2]]\n",
    "lat_pts = [bounding_box_GM[1],bounding_box_GM[3]]\n",
    "gdf = gpd.GeoDataFrame()\n",
    "gdf['lat'] = lat_pts\n",
    "gdf['lon'] = lon_pts\n",
    "dim = 1  # define the length of the side of the square\n",
    "geoms = []\n",
    "for index, row in gdf.iterrows():\n",
    "    ln = row.lon\n",
    "    lt = row.lat\n",
    "    geom = Polygon([(ln, lt), ((ln + dim), lt), ((ln + dim), (lt - dim)), (ln, (lt - dim))])\n",
    "    geoms.append(geom)\n",
    "\n",
    "gdf['geometry'] = geoms \n",
    "gdf.crs = cs2_bound.crs\n",
    "inter = gpd.overlay(cs2_bound,gdf,how='intersection')"
   ]
  },
  {
   "cell_type": "code",
   "execution_count": null,
   "id": "bibliographic-metallic",
   "metadata": {},
   "outputs": [],
   "source": [
    "inter.plot()"
   ]
  },
  {
   "cell_type": "code",
   "execution_count": null,
   "id": "binary-monday",
   "metadata": {},
   "outputs": [],
   "source": [
    "if not os.path.isfile('esa_cryosat_sync.py'):\n",
    "    !wget https://raw.githubusercontent.com/tsutterley/read-cryosat-2/main/scripts/esa_cryosat_sync.py\n",
    "else:\n",
    "    print('ESA_cryosat_sync.py already present')"
   ]
  },
  {
   "cell_type": "code",
   "execution_count": 4,
   "id": "opposed-block",
   "metadata": {},
   "outputs": [
    {
     "data": {
      "text/plain": [
       "'/home/jovyan/integration_station/contributors/max'"
      ]
     },
     "execution_count": 4,
     "metadata": {},
     "output_type": "execute_result"
    }
   ],
   "source": [
    "pwd"
   ]
  },
  {
   "cell_type": "code",
   "execution_count": 11,
   "id": "minor-winning",
   "metadata": {},
   "outputs": [
    {
     "ename": "SyntaxError",
     "evalue": "invalid syntax (<ipython-input-11-bc8eb650cde7>, line 1)",
     "output_type": "error",
     "traceback": [
      "\u001b[0;36m  File \u001b[0;32m\"<ipython-input-11-bc8eb650cde7>\"\u001b[0;36m, line \u001b[0;32m1\u001b[0m\n\u001b[0;31m    import .esa_cryosat_sync\u001b[0m\n\u001b[0m           ^\u001b[0m\n\u001b[0;31mSyntaxError\u001b[0m\u001b[0;31m:\u001b[0m invalid syntax\n"
     ]
    }
   ],
   "source": [
    "import esa_cryosat_sync"
   ]
  },
  {
   "cell_type": "code",
   "execution_count": 12,
   "id": "willing-plain",
   "metadata": {},
   "outputs": [
    {
     "data": {
      "text/plain": [
       "['/home/jovyan/integration_station/contributors/max',\n",
       " '/srv/conda/envs/notebook/lib/python38.zip',\n",
       " '/srv/conda/envs/notebook/lib/python3.8',\n",
       " '/srv/conda/envs/notebook/lib/python3.8/lib-dynload',\n",
       " '',\n",
       " '/home/jovyan/.local/lib/python3.8/site-packages',\n",
       " '/srv/conda/envs/notebook/lib/python3.8/site-packages',\n",
       " '/srv/conda/envs/notebook/lib/python3.8/site-packages/locket-0.2.1-py3.8.egg',\n",
       " '/srv/conda/envs/notebook/lib/python3.8/site-packages/IPython/extensions',\n",
       " '/home/jovyan/.ipython']"
      ]
     },
     "execution_count": 12,
     "metadata": {},
     "output_type": "execute_result"
    }
   ],
   "source": [
    "sys.path"
   ]
  }
 ],
 "metadata": {
  "kernelspec": {
   "display_name": "Python 3",
   "language": "python",
   "name": "python3"
  },
  "language_info": {
   "codemirror_mode": {
    "name": "ipython",
    "version": 3
   },
   "file_extension": ".py",
   "mimetype": "text/x-python",
   "name": "python",
   "nbconvert_exporter": "python",
   "pygments_lexer": "ipython3",
   "version": "3.8.8"
  }
 },
 "nbformat": 4,
 "nbformat_minor": 5
}
