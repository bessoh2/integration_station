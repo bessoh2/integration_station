{
 "cells": [
  {
   "cell_type": "markdown",
   "id": "preliminary-reach",
   "metadata": {},
   "source": [
    "# Depths and Snow Pit Data Package Contents"
   ]
  },
  {
   "cell_type": "code",
   "execution_count": null,
   "id": "higher-credit",
   "metadata": {},
   "outputs": [],
   "source": [
    "# import libraries / packages\n",
    "import os\n",
    "from pathlib import Path\n",
    "import glob\n",
    "import pandas as pd\n",
    "import numpy as np\n",
    "\n",
    "#plotting imports\n",
    "import matplotlib as mpl\n",
    "import matplotlib.pyplot as plt\n",
    "plt.style.use(['seaborn-notebook'])\n"
   ]
  },
  {
   "cell_type": "markdown",
   "id": "authorized-messenger",
   "metadata": {},
   "source": [
    "# Download snow depth data from NSIDC\n",
    "From the SnowEx20 [Depth Probe Landing Page](https://nsidc.org/data/SNEX20_SD/versions/1), you can download data and access the [User's Guide](https://nsidc.org/sites/nsidc.org/files/SNEX20_SD-V001-UserGuide_1.pdf)\n",
    "<img src=\"images/SD-landingPage.png\">\n",
    "\n",
    "The Community Snow Depth Probe data package is a single CSV with over 36,000 geolocated snow depths! Three different instrument types were used to measure depths and are recorded in the Measurement Tool column.\n",
    "\n",
    "Instructions:\n",
    "1) Click on link to landing page\n",
    "1) Go to bottom of page\n",
    "1) Click on download script\n",
    "1) Save to your snowex21/scripts folder locally"
   ]
  },
  {
   "cell_type": "markdown",
   "id": "necessary-atlas",
   "metadata": {},
   "source": [
    "## Programmatically download snow depth data from NSIDC"
   ]
  },
  {
   "cell_type": "code",
   "execution_count": null,
   "id": "broadband-buffer",
   "metadata": {},
   "outputs": [],
   "source": [
    "# Enter the path of the python script location\n",
    "%run '../scripts/nsidc-download_SNEX20_SD.001_2021-07-13.py' \n",
    "print('Grand Mesa 2020 Snow Depth data download complete') "
   ]
  },
  {
   "cell_type": "code",
   "execution_count": null,
   "id": "e29cc7a0-c2ae-4d3a-b32d-68ac90546adf",
   "metadata": {},
   "outputs": [],
   "source": [
    "%%bash\n",
    "\n",
    "# do some file organizing by moving those files to a new directory\n",
    "mv *.csv ../data/depths/\n",
    "mv *.xml ../data/depths/"
   ]
  },
  {
   "cell_type": "code",
   "execution_count": null,
   "id": "unauthorized-celebrity",
   "metadata": {},
   "outputs": [],
   "source": [
    "# show filename in new location:\n",
    "path = Path('../data/depths/')\n",
    "\n",
    "for filename in path.glob('*.csv'):\n",
    "    print(filename.name)"
   ]
  },
  {
   "cell_type": "markdown",
   "id": "brazilian-nickel",
   "metadata": {},
   "source": [
    "### Read the Depth File"
   ]
  },
  {
   "cell_type": "code",
   "execution_count": null,
   "id": "adopted-acrylic",
   "metadata": {},
   "outputs": [],
   "source": [
    "# open depth data file, and create pandas dataframe\n",
    "df = pd.read_csv(filename, sep=',', header=0, parse_dates=[[2,3]]) #parse the date[2] and time[3] columns such that they are read in as datetime dtypes\n",
    "    \n",
    "print('file has been read, and is ready to use.')"
   ]
  },
  {
   "cell_type": "code",
   "execution_count": null,
   "id": "buried-march",
   "metadata": {},
   "outputs": [],
   "source": [
    "# check data types for each column\n",
    "df.dtypes"
   ]
  },
  {
   "cell_type": "markdown",
   "id": "genuine-provision",
   "metadata": {},
   "source": [
    "### Prep for Data Analysis"
   ]
  },
  {
   "cell_type": "code",
   "execution_count": null,
   "id": "handy-museum",
   "metadata": {},
   "outputs": [],
   "source": [
    "# rename some columns for ease further down\n",
    "df.rename(columns = {\n",
    "    'Measurement Tool (MP = Magnaprobe; M2 = Mesa 2; PR = Pit Ruler)':'Measurement Tool', \n",
    "    'Date (yyyymmdd)_Time (hh:mm, local, MST)': \"Datetime\"},\n",
    "          inplace = True)\n",
    "\n",
    "# set up filter for IOP date range\n",
    "start = pd.to_datetime('1/28/2020') #first day of GM IOP campaign\n",
    "end   = pd.to_datetime('2/12/2020') #last day of GM IOP campaign\n",
    "\n",
    "# filter the IOP date range\n",
    "df = df[(df['Datetime'] >= start) & (df['Datetime'] <= end)]\n",
    "\n",
    "print('DataFrame shape is: ', df.shape)\n",
    "df.head()"
   ]
  },
  {
   "cell_type": "markdown",
   "id": "victorian-hundred",
   "metadata": {},
   "source": [
    "#### Use .groupby() to sort the data set"
   ]
  },
  {
   "cell_type": "code",
   "execution_count": null,
   "id": "collective-birthday",
   "metadata": {},
   "outputs": [],
   "source": [
    "# group data by the measurement tool \n",
    "gb = df.groupby('Measurement Tool', as_index=False).mean().round(1)\n",
    "\n",
    "# show mean snow depth from each tool\n",
    "gb[['Measurement Tool', 'Depth (cm)']]"
   ]
  },
  {
   "cell_type": "markdown",
   "id": "second-wales",
   "metadata": {},
   "source": [
    "#### Find depths associated with a certain measurement tool"
   ]
  },
  {
   "cell_type": "code",
   "execution_count": null,
   "id": "mediterranean-angle",
   "metadata": {},
   "outputs": [],
   "source": [
    "print('List of Measurement Tools: ', df['Measurement Tool'].unique())"
   ]
  },
  {
   "cell_type": "code",
   "execution_count": null,
   "id": "published-liability",
   "metadata": {},
   "outputs": [],
   "source": [
    "r = df.loc[df['Measurement Tool'] == 'PR']\n",
    "print('DataFrame shape is: ', r.shape)\n",
    "r.head()"
   ]
  },
  {
   "cell_type": "markdown",
   "id": "demanding-antarctica",
   "metadata": {},
   "source": [
    "Let's make sure we all have the same pd.DataFrame() again"
   ]
  },
  {
   "cell_type": "code",
   "execution_count": null,
   "id": "wanted-forwarding",
   "metadata": {},
   "outputs": [],
   "source": [
    "# pit ruler snow depths from Grand Mesa IOP\n",
    "r = df.loc[df['Measurement Tool'] == 'PR'] \n",
    "print( 'DataFrame is back to only pit ruler depths')"
   ]
  },
  {
   "cell_type": "markdown",
   "id": "stopped-stick",
   "metadata": {},
   "source": [
    "### Plotting"
   ]
  },
  {
   "cell_type": "code",
   "execution_count": null,
   "id": "entire-combine",
   "metadata": {},
   "outputs": [],
   "source": [
    "# plot pit ruler depths \n",
    "ax = r.plot(x='Easting', y='Northing', c='Depth (cm)', kind='scatter', alpha=0.7, colorbar=True, colormap='PuBu', legend=True)\n",
    "ax.set_title('Grand Mesa Pit Ruler Depths')\n",
    "ax.set_xlabel('Easting [m]')\n",
    "ax.set_ylabel('Northing [m]')\n",
    "plt.show()\n",
    "\n",
    "print('Notice the point on the far right - that is the \"GML\" or Grand Mesa Lodge pit where all instruments were deployed for a comparison study. pitID=GML')"
   ]
  },
  {
   "cell_type": "code",
   "execution_count": null,
   "id": "representative-processing",
   "metadata": {},
   "outputs": [],
   "source": [
    "# plot histogram of pit ruler depths\n",
    "ax = r['Depth (cm)'].plot.hist(bins=25)\n",
    "ax.grid()\n",
    "ax.set_title('Grand Mesa Pit Ruler Depths')\n",
    "ax.set_xlabel('Snow Depth (cm)')\n",
    "ax.set_ylabel('Frequency')"
   ]
  }
 ],
 "metadata": {
  "kernelspec": {
   "display_name": "Python 3 (ipykernel)",
   "language": "python",
   "name": "python3"
  },
  "language_info": {
   "codemirror_mode": {
    "name": "ipython",
    "version": 3
   },
   "file_extension": ".py",
   "mimetype": "text/x-python",
   "name": "python",
   "nbconvert_exporter": "python",
   "pygments_lexer": "ipython3",
   "version": "3.8.10"
  }
 },
 "nbformat": 4,
 "nbformat_minor": 5
}
