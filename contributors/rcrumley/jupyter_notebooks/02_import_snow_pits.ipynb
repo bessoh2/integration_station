{
 "cells": [
  {
   "cell_type": "markdown",
   "id": "preliminary-reach",
   "metadata": {},
   "source": [
    "# Depths and Snow Pit Data Package Contents"
   ]
  },
  {
   "cell_type": "code",
   "execution_count": null,
   "id": "higher-credit",
   "metadata": {},
   "outputs": [],
   "source": [
    "# import libraries / packages\n",
    "import os\n",
    "from pathlib import Path\n",
    "import glob\n",
    "import pandas as pd\n",
    "import numpy as np\n",
    "\n",
    "#plotting imports\n",
    "import matplotlib as mpl\n",
    "import matplotlib.pyplot as plt\n",
    "plt.style.use(['seaborn-notebook'])\n"
   ]
  },
  {
   "cell_type": "markdown",
   "id": "authorized-messenger",
   "metadata": {},
   "source": [
    "# Download snow depth data from NSIDC\n",
    "From the SnowEx20 [Depth Probe Landing Page](https://nsidc.org/data/SNEX20_SD/versions/1), you can download data and access the [User's Guide](https://nsidc.org/sites/nsidc.org/files/SNEX20_SD-V001-UserGuide_1.pdf)\n",
    "<img src=\"images/SD-landingPage.png\">\n",
    "\n",
    "The Community Snow Depth Probe data package is a single CSV with over 36,000 geolocated snow depths! Three different instrument types were used to measure depths and are recorded in the Measurement Tool column.\n",
    "\n",
    "Instructions:\n",
    "1) Click on link to landing page\n",
    "1) Go to bottom of page\n",
    "1) Click on download script\n",
    "1) Save to your snowex21/scripts folder locally"
   ]
  },
  {
   "cell_type": "markdown",
   "id": "analyzed-contents",
   "metadata": {},
   "source": [
    "## Download snow pit data from NSIDC\n",
    "From the SnowEx20 [Snow Pit Landing Page](https://nsidc.org/data/SNEX20_GM_SP/versions/1), you can download data and access the [User's Guide](https://nsidc.org/data/SNEX20_GM_SP/versions/1). \n",
    "\n",
    "<img src=\"images/SP-landingPage.png\">"
   ]
  },
  {
   "cell_type": "markdown",
   "id": "necessary-atlas",
   "metadata": {},
   "source": [
    "## Programmatically download snow pit data from NSIDC"
   ]
  },
  {
   "cell_type": "code",
   "execution_count": null,
   "id": "broadband-buffer",
   "metadata": {},
   "outputs": [],
   "source": [
    "# load snow pit data\n",
    "%run '../scripts/nsidc-download_SNEX20_GM_SP.001_2021-07-15.py'\n",
    "print('Grand Mesa 2020 Snow Pit data download complete')"
   ]
  },
  {
   "cell_type": "code",
   "execution_count": null,
   "id": "e29cc7a0-c2ae-4d3a-b32d-68ac90546adf",
   "metadata": {},
   "outputs": [],
   "source": [
    "%%bash\n",
    "\n",
    "# do some file organizing by moving those files to a new directory\n",
    "mv *.csv ../data/pits/\n",
    "mv *.xml ../data/pits/\n",
    "mv *.jpg ../data/pits/\n",
    "mv *.pdf ../data/pits/"
   ]
  },
  {
   "cell_type": "code",
   "execution_count": null,
   "id": "unauthorized-celebrity",
   "metadata": {},
   "outputs": [],
   "source": [
    "# show filename in new location:\n",
    "path = Path('../data/pits/')\n",
    "\n",
    "for i, filename in enumerate(path.glob('*1N6*')):\n",
    "    print(i, filename.name)"
   ]
  },
  {
   "cell_type": "markdown",
   "id": "alien-orbit",
   "metadata": {},
   "source": [
    "### Don't want to work with all the files? Method to filter files"
   ]
  },
  {
   "cell_type": "code",
   "execution_count": null,
   "id": "incoming-accuracy",
   "metadata": {},
   "outputs": [],
   "source": [
    "# what files would you like to find?\n",
    "parameter = 'temperature'\n",
    "pitID = '1N6'\n",
    "date = '20200128'"
   ]
  },
  {
   "cell_type": "markdown",
   "id": "orange-zealand",
   "metadata": {},
   "source": [
    "### Read the Pit Parameter File"
   ]
  },
  {
   "cell_type": "code",
   "execution_count": null,
   "id": "pretty-terrain",
   "metadata": {},
   "outputs": [],
   "source": [
    "# show filename in new location:\n",
    "path = '../data/pits/'\n",
    "\n",
    "filename = path+'SnowEx20_SnowPits_GMIOP_'+date+'_'+pitID+'_'+parameter+'_v01.csv'\n",
    "print(filename)\n",
    "\n",
    "df = pd.read_csv(filename, header=7)"
   ]
  },
  {
   "cell_type": "code",
   "execution_count": null,
   "id": "79dc6c2c-ec3d-46d8-8741-9e92093a1c99",
   "metadata": {},
   "outputs": [],
   "source": [
    "# check data types for each column\n",
    "df.dtypes"
   ]
  },
  {
   "cell_type": "markdown",
   "id": "dental-summer",
   "metadata": {},
   "source": [
    "### Plotting"
   ]
  },
  {
   "cell_type": "code",
   "execution_count": null,
   "id": "suitable-livestock",
   "metadata": {},
   "outputs": [],
   "source": [
    "# plot temperature\n",
    "ax = df.plot(x='Temperature (deg C)',y='# Height (cm)', legend=False)\n",
    "ax.set_aspect(0.4)\n",
    "ax.grid()\n",
    "ax.set_title('pit {}: Temperature Profile'.format(pitID))\n",
    "ax.set_xlabel('Temperature (deg C)')\n",
    "ax.set_ylabel('Snow Depth (cm)')"
   ]
  }
 ],
 "metadata": {
  "kernelspec": {
   "display_name": "Python 3 (ipykernel)",
   "language": "python",
   "name": "python3"
  },
  "language_info": {
   "codemirror_mode": {
    "name": "ipython",
    "version": 3
   },
   "file_extension": ".py",
   "mimetype": "text/x-python",
   "name": "python",
   "nbconvert_exporter": "python",
   "pygments_lexer": "ipython3",
   "version": "3.8.10"
  }
 },
 "nbformat": 4,
 "nbformat_minor": 5
}
