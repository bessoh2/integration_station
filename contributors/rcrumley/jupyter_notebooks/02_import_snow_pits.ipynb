{
 "cells": [
  {
   "cell_type": "markdown",
   "id": "preliminary-reach",
   "metadata": {},
   "source": [
    "# Depths and Snow Pit Data Package Contents"
   ]
  },
  {
   "cell_type": "code",
   "execution_count": 1,
   "id": "higher-credit",
   "metadata": {},
   "outputs": [],
   "source": [
    "# import libraries / packages\n",
    "import os\n",
    "from pathlib import Path\n",
    "import glob\n",
    "import pandas as pd\n",
    "import numpy as np\n",
    "\n",
    "#plotting imports\n",
    "import matplotlib as mpl\n",
    "import matplotlib.pyplot as plt\n",
    "plt.style.use(['seaborn-notebook'])\n"
   ]
  },
  {
   "cell_type": "markdown",
   "id": "authorized-messenger",
   "metadata": {},
   "source": [
    "# Download snow depth data from NSIDC\n",
    "From the SnowEx20 [Depth Probe Landing Page](https://nsidc.org/data/SNEX20_SD/versions/1), you can download data and access the [User's Guide](https://nsidc.org/sites/nsidc.org/files/SNEX20_SD-V001-UserGuide_1.pdf)\n",
    "<img src=\"images/SD-landingPage.png\">\n",
    "\n",
    "The Community Snow Depth Probe data package is a single CSV with over 36,000 geolocated snow depths! Three different instrument types were used to measure depths and are recorded in the Measurement Tool column.\n",
    "\n",
    "Instructions:\n",
    "1) Click on link to landing page\n",
    "1) Go to bottom of page\n",
    "1) Click on download script\n",
    "1) Save to your snowex21/scripts folder locally"
   ]
  },
  {
   "cell_type": "markdown",
   "id": "necessary-atlas",
   "metadata": {},
   "source": [
    "## Programmatically download snow depth data from NSIDC"
   ]
  },
  {
   "cell_type": "code",
   "execution_count": 6,
   "id": "broadband-buffer",
   "metadata": {},
   "outputs": [
    {
     "name": "stdout",
     "output_type": "stream",
     "text": [
      "Querying for data:\n",
      "\thttps://cmr.earthdata.nasa.gov/search/granules.json?provider=NSIDC_ECS&sort_key[]=start_date&sort_key[]=producer_granule_id&scroll=true&page_size=2000&short_name=SNEX20_SD&version=001&version=01&version=1&temporal[]=2020-01-28T00:00:00Z,2020-02-12T23:59:59Z\n",
      "\n",
      "Found 1 matches.\n",
      "Downloading 2 files...\n",
      "1/2: SnowEx2020_SnowDepths_COGM_alldepths_v01.csv\n",
      "\b  [===============                                             ]  25%  4.2MB/s    [==============================                              ]  50%  5.3MB/s    [=============================================               ]  75%  5.9MB/s    [============================================================] 100%  7.2MB/s   \n",
      "2/2: SnowEx2020_SnowDepths_COGM_alldepths_v01.csv.xml\n",
      "\b  [============================================================] 100%  1.4MB/s   \n",
      "Grand Mesa 2020 Snow Depth data download complete\n"
     ]
    }
   ],
   "source": [
    "# Enter the path of the python script location\n",
    "%run '../scripts/nsidc-download_SNEX20_SD.001_2021-07-13.py' \n",
    "print('Grand Mesa 2020 Snow Depth data download complete') "
   ]
  },
  {
   "cell_type": "code",
   "execution_count": 7,
   "id": "e29cc7a0-c2ae-4d3a-b32d-68ac90546adf",
   "metadata": {},
   "outputs": [],
   "source": [
    "%%bash\n",
    "\n",
    "# do some file organizing by moving those files to a new directory\n",
    "mv *.csv ../data/depths/\n",
    "mv *.xml ../data/depths/"
   ]
  },
  {
   "cell_type": "code",
   "execution_count": 8,
   "id": "unauthorized-celebrity",
   "metadata": {},
   "outputs": [
    {
     "name": "stdout",
     "output_type": "stream",
     "text": [
      "SnowEx2020_SnowDepths_COGM_alldepths_v01.csv\n"
     ]
    }
   ],
   "source": [
    "# show filename in new location:\n",
    "path = Path('../data/depths/')\n",
    "\n",
    "for filename in path.glob('*.csv'):\n",
    "    print(filename.name)"
   ]
  },
  {
   "cell_type": "markdown",
   "id": "brazilian-nickel",
   "metadata": {},
   "source": [
    "### Read the Depth File"
   ]
  },
  {
   "cell_type": "code",
   "execution_count": 9,
   "id": "adopted-acrylic",
   "metadata": {},
   "outputs": [
    {
     "name": "stdout",
     "output_type": "stream",
     "text": [
      "file has been read, and is ready to use.\n"
     ]
    }
   ],
   "source": [
    "# open depth data file, and create pandas dataframe\n",
    "df = pd.read_csv(filename, sep=',', header=0, parse_dates=[[2,3]]) #parse the date[2] and time[3] columns such that they are read in as datetime dtypes\n",
    "    \n",
    "print('file has been read, and is ready to use.')"
   ]
  },
  {
   "cell_type": "code",
   "execution_count": 10,
   "id": "buried-march",
   "metadata": {},
   "outputs": [
    {
     "data": {
      "text/plain": [
       "Date (yyyymmdd)_Time (hh:mm, local, MST)                           datetime64[ns]\n",
       "Measurement Tool (MP = Magnaprobe; M2 = Mesa 2; PR = Pit Ruler)            object\n",
       "ID                                                                          int64\n",
       "PitID                                                                      object\n",
       "Longitude                                                                 float64\n",
       "Latitude                                                                  float64\n",
       "Easting                                                                   float64\n",
       "Northing                                                                  float64\n",
       "Depth (cm)                                                                  int64\n",
       "elevation (m)                                                             float64\n",
       "equipment                                                                  object\n",
       "Version Number                                                              int64\n",
       "dtype: object"
      ]
     },
     "execution_count": 10,
     "metadata": {},
     "output_type": "execute_result"
    }
   ],
   "source": [
    "# check data types for each column\n",
    "df.dtypes"
   ]
  },
  {
   "cell_type": "markdown",
   "id": "genuine-provision",
   "metadata": {},
   "source": [
    "### Prep for Data Analysis"
   ]
  },
  {
   "cell_type": "code",
   "execution_count": 11,
   "id": "handy-museum",
   "metadata": {},
   "outputs": [
    {
     "name": "stdout",
     "output_type": "stream",
     "text": [
      "DataFrame shape is:  (36388, 12)\n"
     ]
    },
    {
     "data": {
      "text/html": [
       "<div>\n",
       "<style scoped>\n",
       "    .dataframe tbody tr th:only-of-type {\n",
       "        vertical-align: middle;\n",
       "    }\n",
       "\n",
       "    .dataframe tbody tr th {\n",
       "        vertical-align: top;\n",
       "    }\n",
       "\n",
       "    .dataframe thead th {\n",
       "        text-align: right;\n",
       "    }\n",
       "</style>\n",
       "<table border=\"1\" class=\"dataframe\">\n",
       "  <thead>\n",
       "    <tr style=\"text-align: right;\">\n",
       "      <th></th>\n",
       "      <th>Datetime</th>\n",
       "      <th>Measurement Tool</th>\n",
       "      <th>ID</th>\n",
       "      <th>PitID</th>\n",
       "      <th>Longitude</th>\n",
       "      <th>Latitude</th>\n",
       "      <th>Easting</th>\n",
       "      <th>Northing</th>\n",
       "      <th>Depth (cm)</th>\n",
       "      <th>elevation (m)</th>\n",
       "      <th>equipment</th>\n",
       "      <th>Version Number</th>\n",
       "    </tr>\n",
       "  </thead>\n",
       "  <tbody>\n",
       "    <tr>\n",
       "      <th>0</th>\n",
       "      <td>2020-01-28 11:48:00</td>\n",
       "      <td>MP</td>\n",
       "      <td>100000</td>\n",
       "      <td>8N58</td>\n",
       "      <td>-108.13515</td>\n",
       "      <td>39.03045</td>\n",
       "      <td>747987.62</td>\n",
       "      <td>4324061.71</td>\n",
       "      <td>94</td>\n",
       "      <td>3148.2</td>\n",
       "      <td>CRREL_B</td>\n",
       "      <td>1</td>\n",
       "    </tr>\n",
       "    <tr>\n",
       "      <th>1</th>\n",
       "      <td>2020-01-28 11:48:00</td>\n",
       "      <td>MP</td>\n",
       "      <td>100001</td>\n",
       "      <td>8N58</td>\n",
       "      <td>-108.13516</td>\n",
       "      <td>39.03045</td>\n",
       "      <td>747986.75</td>\n",
       "      <td>4324061.68</td>\n",
       "      <td>74</td>\n",
       "      <td>3148.3</td>\n",
       "      <td>CRREL_B</td>\n",
       "      <td>1</td>\n",
       "    </tr>\n",
       "    <tr>\n",
       "      <th>2</th>\n",
       "      <td>2020-01-28 11:48:00</td>\n",
       "      <td>MP</td>\n",
       "      <td>100002</td>\n",
       "      <td>8N58</td>\n",
       "      <td>-108.13517</td>\n",
       "      <td>39.03045</td>\n",
       "      <td>747985.89</td>\n",
       "      <td>4324061.65</td>\n",
       "      <td>90</td>\n",
       "      <td>3148.2</td>\n",
       "      <td>CRREL_B</td>\n",
       "      <td>1</td>\n",
       "    </tr>\n",
       "    <tr>\n",
       "      <th>3</th>\n",
       "      <td>2020-01-28 11:48:00</td>\n",
       "      <td>MP</td>\n",
       "      <td>100003</td>\n",
       "      <td>8N58</td>\n",
       "      <td>-108.13519</td>\n",
       "      <td>39.03044</td>\n",
       "      <td>747984.19</td>\n",
       "      <td>4324060.49</td>\n",
       "      <td>87</td>\n",
       "      <td>3148.6</td>\n",
       "      <td>CRREL_B</td>\n",
       "      <td>1</td>\n",
       "    </tr>\n",
       "    <tr>\n",
       "      <th>4</th>\n",
       "      <td>2020-01-28 11:48:00</td>\n",
       "      <td>MP</td>\n",
       "      <td>100004</td>\n",
       "      <td>8N58</td>\n",
       "      <td>-108.13519</td>\n",
       "      <td>39.03042</td>\n",
       "      <td>747984.26</td>\n",
       "      <td>4324058.27</td>\n",
       "      <td>90</td>\n",
       "      <td>3150.1</td>\n",
       "      <td>CRREL_B</td>\n",
       "      <td>1</td>\n",
       "    </tr>\n",
       "  </tbody>\n",
       "</table>\n",
       "</div>"
      ],
      "text/plain": [
       "             Datetime Measurement Tool      ID PitID  Longitude  Latitude  \\\n",
       "0 2020-01-28 11:48:00               MP  100000  8N58 -108.13515  39.03045   \n",
       "1 2020-01-28 11:48:00               MP  100001  8N58 -108.13516  39.03045   \n",
       "2 2020-01-28 11:48:00               MP  100002  8N58 -108.13517  39.03045   \n",
       "3 2020-01-28 11:48:00               MP  100003  8N58 -108.13519  39.03044   \n",
       "4 2020-01-28 11:48:00               MP  100004  8N58 -108.13519  39.03042   \n",
       "\n",
       "     Easting    Northing  Depth (cm)  elevation (m) equipment  Version Number  \n",
       "0  747987.62  4324061.71          94         3148.2   CRREL_B               1  \n",
       "1  747986.75  4324061.68          74         3148.3   CRREL_B               1  \n",
       "2  747985.89  4324061.65          90         3148.2   CRREL_B               1  \n",
       "3  747984.19  4324060.49          87         3148.6   CRREL_B               1  \n",
       "4  747984.26  4324058.27          90         3150.1   CRREL_B               1  "
      ]
     },
     "execution_count": 11,
     "metadata": {},
     "output_type": "execute_result"
    }
   ],
   "source": [
    "# rename some columns for ease further down\n",
    "df.rename(columns = {\n",
    "    'Measurement Tool (MP = Magnaprobe; M2 = Mesa 2; PR = Pit Ruler)':'Measurement Tool', \n",
    "    'Date (yyyymmdd)_Time (hh:mm, local, MST)': \"Datetime\"},\n",
    "          inplace = True)\n",
    "\n",
    "# set up filter for IOP date range\n",
    "start = pd.to_datetime('1/28/2020') #first day of GM IOP campaign\n",
    "end   = pd.to_datetime('2/12/2020') #last day of GM IOP campaign\n",
    "\n",
    "# filter the IOP date range\n",
    "df = df[(df['Datetime'] >= start) & (df['Datetime'] <= end)]\n",
    "\n",
    "print('DataFrame shape is: ', df.shape)\n",
    "df.head()"
   ]
  },
  {
   "cell_type": "markdown",
   "id": "victorian-hundred",
   "metadata": {},
   "source": [
    "#### Use .groupby() to sort the data set"
   ]
  },
  {
   "cell_type": "code",
   "execution_count": 12,
   "id": "collective-birthday",
   "metadata": {},
   "outputs": [
    {
     "data": {
      "text/html": [
       "<div>\n",
       "<style scoped>\n",
       "    .dataframe tbody tr th:only-of-type {\n",
       "        vertical-align: middle;\n",
       "    }\n",
       "\n",
       "    .dataframe tbody tr th {\n",
       "        vertical-align: top;\n",
       "    }\n",
       "\n",
       "    .dataframe thead th {\n",
       "        text-align: right;\n",
       "    }\n",
       "</style>\n",
       "<table border=\"1\" class=\"dataframe\">\n",
       "  <thead>\n",
       "    <tr style=\"text-align: right;\">\n",
       "      <th></th>\n",
       "      <th>Measurement Tool</th>\n",
       "      <th>Depth (cm)</th>\n",
       "    </tr>\n",
       "  </thead>\n",
       "  <tbody>\n",
       "    <tr>\n",
       "      <th>0</th>\n",
       "      <td>M2</td>\n",
       "      <td>97.0</td>\n",
       "    </tr>\n",
       "    <tr>\n",
       "      <th>1</th>\n",
       "      <td>MP</td>\n",
       "      <td>94.8</td>\n",
       "    </tr>\n",
       "    <tr>\n",
       "      <th>2</th>\n",
       "      <td>PR</td>\n",
       "      <td>94.6</td>\n",
       "    </tr>\n",
       "  </tbody>\n",
       "</table>\n",
       "</div>"
      ],
      "text/plain": [
       "  Measurement Tool  Depth (cm)\n",
       "0               M2        97.0\n",
       "1               MP        94.8\n",
       "2               PR        94.6"
      ]
     },
     "execution_count": 12,
     "metadata": {},
     "output_type": "execute_result"
    }
   ],
   "source": [
    "# group data by the measurement tool \n",
    "gb = df.groupby('Measurement Tool', as_index=False).mean().round(1)\n",
    "\n",
    "# show mean snow depth from each tool\n",
    "gb[['Measurement Tool', 'Depth (cm)']]"
   ]
  },
  {
   "cell_type": "markdown",
   "id": "second-wales",
   "metadata": {},
   "source": [
    "#### Find depths associated with a certain measurement tool"
   ]
  },
  {
   "cell_type": "code",
   "execution_count": 13,
   "id": "mediterranean-angle",
   "metadata": {},
   "outputs": [
    {
     "name": "stdout",
     "output_type": "stream",
     "text": [
      "List of Measurement Tools:  ['MP' 'M2' 'PR']\n"
     ]
    }
   ],
   "source": [
    "print('List of Measurement Tools: ', df['Measurement Tool'].unique())"
   ]
  },
  {
   "cell_type": "code",
   "execution_count": 14,
   "id": "published-liability",
   "metadata": {},
   "outputs": [
    {
     "name": "stdout",
     "output_type": "stream",
     "text": [
      "DataFrame shape is:  (148, 12)\n"
     ]
    },
    {
     "data": {
      "text/html": [
       "<div>\n",
       "<style scoped>\n",
       "    .dataframe tbody tr th:only-of-type {\n",
       "        vertical-align: middle;\n",
       "    }\n",
       "\n",
       "    .dataframe tbody tr th {\n",
       "        vertical-align: top;\n",
       "    }\n",
       "\n",
       "    .dataframe thead th {\n",
       "        text-align: right;\n",
       "    }\n",
       "</style>\n",
       "<table border=\"1\" class=\"dataframe\">\n",
       "  <thead>\n",
       "    <tr style=\"text-align: right;\">\n",
       "      <th></th>\n",
       "      <th>Datetime</th>\n",
       "      <th>Measurement Tool</th>\n",
       "      <th>ID</th>\n",
       "      <th>PitID</th>\n",
       "      <th>Longitude</th>\n",
       "      <th>Latitude</th>\n",
       "      <th>Easting</th>\n",
       "      <th>Northing</th>\n",
       "      <th>Depth (cm)</th>\n",
       "      <th>elevation (m)</th>\n",
       "      <th>equipment</th>\n",
       "      <th>Version Number</th>\n",
       "    </tr>\n",
       "  </thead>\n",
       "  <tbody>\n",
       "    <tr>\n",
       "      <th>37755</th>\n",
       "      <td>2020-01-30 11:24:00</td>\n",
       "      <td>PR</td>\n",
       "      <td>300001</td>\n",
       "      <td>7C15</td>\n",
       "      <td>-108.19593</td>\n",
       "      <td>39.04563</td>\n",
       "      <td>742673.94</td>\n",
       "      <td>4325582.37</td>\n",
       "      <td>100</td>\n",
       "      <td>3048.699951</td>\n",
       "      <td>ruler</td>\n",
       "      <td>1</td>\n",
       "    </tr>\n",
       "    <tr>\n",
       "      <th>37756</th>\n",
       "      <td>2020-01-29 15:00:00</td>\n",
       "      <td>PR</td>\n",
       "      <td>300002</td>\n",
       "      <td>6C37</td>\n",
       "      <td>-108.14791</td>\n",
       "      <td>39.00760</td>\n",
       "      <td>746962.00</td>\n",
       "      <td>4321491.00</td>\n",
       "      <td>117</td>\n",
       "      <td>3087.709961</td>\n",
       "      <td>ruler</td>\n",
       "      <td>1</td>\n",
       "    </tr>\n",
       "    <tr>\n",
       "      <th>37757</th>\n",
       "      <td>2020-02-09 12:30:00</td>\n",
       "      <td>PR</td>\n",
       "      <td>300003</td>\n",
       "      <td>8C31</td>\n",
       "      <td>-108.16401</td>\n",
       "      <td>39.02144</td>\n",
       "      <td>745520.00</td>\n",
       "      <td>4322983.00</td>\n",
       "      <td>98</td>\n",
       "      <td>3099.639893</td>\n",
       "      <td>ruler</td>\n",
       "      <td>1</td>\n",
       "    </tr>\n",
       "    <tr>\n",
       "      <th>37758</th>\n",
       "      <td>2020-01-28 09:13:00</td>\n",
       "      <td>PR</td>\n",
       "      <td>300004</td>\n",
       "      <td>6N18</td>\n",
       "      <td>-108.19103</td>\n",
       "      <td>39.03404</td>\n",
       "      <td>743137.23</td>\n",
       "      <td>4324309.43</td>\n",
       "      <td>92</td>\n",
       "      <td>3055.590088</td>\n",
       "      <td>ruler</td>\n",
       "      <td>1</td>\n",
       "    </tr>\n",
       "    <tr>\n",
       "      <th>37760</th>\n",
       "      <td>2020-02-10 10:30:00</td>\n",
       "      <td>PR</td>\n",
       "      <td>300006</td>\n",
       "      <td>8S41</td>\n",
       "      <td>-108.14962</td>\n",
       "      <td>39.01659</td>\n",
       "      <td>746783.00</td>\n",
       "      <td>4322484.00</td>\n",
       "      <td>95</td>\n",
       "      <td>3113.870117</td>\n",
       "      <td>ruler</td>\n",
       "      <td>1</td>\n",
       "    </tr>\n",
       "  </tbody>\n",
       "</table>\n",
       "</div>"
      ],
      "text/plain": [
       "                 Datetime Measurement Tool      ID PitID  Longitude  Latitude  \\\n",
       "37755 2020-01-30 11:24:00               PR  300001  7C15 -108.19593  39.04563   \n",
       "37756 2020-01-29 15:00:00               PR  300002  6C37 -108.14791  39.00760   \n",
       "37757 2020-02-09 12:30:00               PR  300003  8C31 -108.16401  39.02144   \n",
       "37758 2020-01-28 09:13:00               PR  300004  6N18 -108.19103  39.03404   \n",
       "37760 2020-02-10 10:30:00               PR  300006  8S41 -108.14962  39.01659   \n",
       "\n",
       "         Easting    Northing  Depth (cm)  elevation (m) equipment  \\\n",
       "37755  742673.94  4325582.37         100    3048.699951     ruler   \n",
       "37756  746962.00  4321491.00         117    3087.709961     ruler   \n",
       "37757  745520.00  4322983.00          98    3099.639893     ruler   \n",
       "37758  743137.23  4324309.43          92    3055.590088     ruler   \n",
       "37760  746783.00  4322484.00          95    3113.870117     ruler   \n",
       "\n",
       "       Version Number  \n",
       "37755               1  \n",
       "37756               1  \n",
       "37757               1  \n",
       "37758               1  \n",
       "37760               1  "
      ]
     },
     "execution_count": 14,
     "metadata": {},
     "output_type": "execute_result"
    }
   ],
   "source": [
    "r = df.loc[df['Measurement Tool'] == 'PR']\n",
    "print('DataFrame shape is: ', r.shape)\n",
    "r.head()"
   ]
  },
  {
   "cell_type": "markdown",
   "id": "demanding-antarctica",
   "metadata": {},
   "source": [
    "Let's make sure we all have the same pd.DataFrame() again"
   ]
  },
  {
   "cell_type": "code",
   "execution_count": 15,
   "id": "wanted-forwarding",
   "metadata": {},
   "outputs": [
    {
     "name": "stdout",
     "output_type": "stream",
     "text": [
      "DataFrame is back to only pit ruler depths\n"
     ]
    }
   ],
   "source": [
    "# pit ruler snow depths from Grand Mesa IOP\n",
    "r = df.loc[df['Measurement Tool'] == 'PR'] \n",
    "print( 'DataFrame is back to only pit ruler depths')"
   ]
  },
  {
   "cell_type": "markdown",
   "id": "stopped-stick",
   "metadata": {},
   "source": [
    "### Plotting"
   ]
  },
  {
   "cell_type": "code",
   "execution_count": 16,
   "id": "entire-combine",
   "metadata": {},
   "outputs": [
    {
     "data": {
      "image/png": "[encoded data removed]",
      "text/plain": [
       "<Figure size 576x396 with 2 Axes>"
      ]
     },
     "metadata": {
      "needs_background": "light"
     },
     "output_type": "display_data"
    },
    {
     "name": "stdout",
     "output_type": "stream",
     "text": [
      "Notice the point on the far right - that is the \"GML\" or Grand Mesa Lodge pit where all instruments were deployed for a comparison study. pitID=GML\n"
     ]
    }
   ],
   "source": [
    "# plot pit ruler depths \n",
    "ax = r.plot(x='Easting', y='Northing', c='Depth (cm)', kind='scatter', alpha=0.7, colorbar=True, colormap='PuBu', legend=True)\n",
    "ax.set_title('Grand Mesa Pit Ruler Depths')\n",
    "ax.set_xlabel('Easting [m]')\n",
    "ax.set_ylabel('Northing [m]')\n",
    "plt.show()\n",
    "\n",
    "print('Notice the point on the far right - that is the \"GML\" or Grand Mesa Lodge pit where all instruments were deployed for a comparison study. pitID=GML')"
   ]
  },
  {
   "cell_type": "code",
   "execution_count": 17,
   "id": "representative-processing",
   "metadata": {},
   "outputs": [
    {
     "data": {
      "text/plain": [
       "Text(0, 0.5, 'Frequency')"
      ]
     },
     "execution_count": 17,
     "metadata": {},
     "output_type": "execute_result"
    },
    {
     "data": {
      "image/png": "[encoded data removed]",
      "text/plain": [
       "<Figure size 576x396 with 1 Axes>"
      ]
     },
     "metadata": {
      "needs_background": "light"
     },
     "output_type": "display_data"
    }
   ],
   "source": [
    "# plot histogram of pit ruler depths\n",
    "ax = r['Depth (cm)'].plot.hist(bins=25)\n",
    "ax.grid()\n",
    "ax.set_title('Grand Mesa Pit Ruler Depths')\n",
    "ax.set_xlabel('Snow Depth (cm)')\n",
    "ax.set_ylabel('Frequency')"
   ]
  },
  {
   "cell_type": "markdown",
   "id": "analyzed-contents",
   "metadata": {},
   "source": [
    "## Download snow pit data from NSIDC\n",
    "From the SnowEx20 [Snow Pit Landing Page](https://nsidc.org/data/SNEX20_GM_SP/versions/1), you can download data and access the [User's Guide](https://nsidc.org/data/SNEX20_GM_SP/versions/1). \n",
    "\n",
    "<img src=\"images/SP-landingPage.png\">"
   ]
  },
  {
   "cell_type": "markdown",
   "id": "toxic-bible",
   "metadata": {},
   "source": [
    "## Method 1: Programmatically download snow pit data from NSIDC"
   ]
  },
  {
   "cell_type": "code",
   "execution_count": null,
   "id": "renewable-despite",
   "metadata": {},
   "outputs": [],
   "source": [
    "# load snow pit data\n",
    "%run 'scripts/nsidc-download_SNEX20_GM_SP.001.py'\n",
    "print('Grand Mesa 2020 Snow Pit data download complete')"
   ]
  },
  {
   "cell_type": "code",
   "execution_count": null,
   "id": "bearing-jewel",
   "metadata": {},
   "outputs": [],
   "source": [
    "# show filenames\n",
    "path = Path('./data/pits/')\n",
    "\n",
    "for i, filename in enumerate(path.glob('*5N19*')):\n",
    "    print(i, filename.name)"
   ]
  },
  {
   "cell_type": "markdown",
   "id": "fundamental-rotation",
   "metadata": {},
   "source": [
    "## Method 2: Access data from our shared resources server\n",
    "Again, quick access for hackweek or if you haven't gone through the steps to [configure programmatic access](https://snowex-hackweek.github.io/website/preliminary/earthdata.html#configure-programmatic-access-to-nasa-servers) to NASA servers yet. This pulls data from our AWS, S3 bucket"
   ]
  },
  {
   "cell_type": "code",
   "execution_count": null,
   "id": "restricted-notification",
   "metadata": {},
   "outputs": [],
   "source": [
    "# Uses AWS credentials on machine\n",
    "fs = s3fs.S3FileSystem() \n",
    "\n",
    "# which data bucket?\n",
    "bucket = 'snowex-data'  \n",
    "      \n",
    "# contents inside /pits     \n",
    "flist = fs.ls(f'{bucket}/tutorial-data/core-datasets/pits/')\n",
    "\n",
    "# which files do we want?\n",
    "suffix='.csv'\n",
    "\n",
    "# list comprehension to get .csv files (not .xlsx or .jpgs)\n",
    "csv_files = [filename for filename in flist if filename.endswith(suffix)]\n",
    "csv_files[:5]"
   ]
  },
  {
   "cell_type": "markdown",
   "id": "alien-orbit",
   "metadata": {},
   "source": [
    "### Don't want to work with all the files? Method to filter files"
   ]
  },
  {
   "cell_type": "code",
   "execution_count": null,
   "id": "incoming-accuracy",
   "metadata": {},
   "outputs": [],
   "source": [
    "# what files would you like to find?\n",
    "parameter = 'temperature'\n",
    "pitID = '5N19'\n",
    "date = '20200128'"
   ]
  },
  {
   "cell_type": "markdown",
   "id": "orange-zealand",
   "metadata": {},
   "source": [
    "### Read the Pit Parameter File"
   ]
  },
  {
   "cell_type": "code",
   "execution_count": null,
   "id": "pretty-terrain",
   "metadata": {},
   "outputs": [],
   "source": [
    "with fs.open('/snowex-data/tutorial-data/core-datasets/pits/SnowEx20_SnowPits_GMIOP_{}_{}_{}_v01.csv'.format(date, pitID, parameter), 'rb') as f:\n",
    "    \n",
    "    t = pd.read_csv(f, header=7)\n",
    "t"
   ]
  },
  {
   "cell_type": "markdown",
   "id": "dental-summer",
   "metadata": {},
   "source": [
    "### Plotting"
   ]
  },
  {
   "cell_type": "code",
   "execution_count": null,
   "id": "suitable-livestock",
   "metadata": {},
   "outputs": [],
   "source": [
    "# plot temperature\n",
    "ax = t.plot(x='Temperature (deg C)',y='# Height (cm)', legend=False)\n",
    "ax.set_aspect(0.4)\n",
    "ax.grid()\n",
    "ax.set_title('pit {}: Temperature Profile'.format(pitID))\n",
    "ax.set_xlabel('Temperature (deg C)')\n",
    "ax.set_ylabel('Snow Depth (cm)')"
   ]
  },
  {
   "cell_type": "code",
   "execution_count": null,
   "id": "rising-rendering",
   "metadata": {},
   "outputs": [],
   "source": [
    "# grab a different pit parameter file\n",
    "parameter = 'density'\n",
    "with fs.open('/snowex-data/tutorial-data/core-datasets/pits/SnowEx20_SnowPits_GMIOP_{}_{}_{}_v01.csv'.format(date, pitID, parameter), 'rb') as f:\n",
    "\n",
    "    d = pd.read_csv(f, header=7)\n",
    "d"
   ]
  },
  {
   "cell_type": "code",
   "execution_count": null,
   "id": "described-sharp",
   "metadata": {},
   "outputs": [],
   "source": [
    "# get the average density \n",
    "d['Avg Density (kg/m3)'] = d[['Density A (kg/m3)', 'Density B (kg/m3)', 'Density C (kg/m3)']].mean(axis=1, skipna=True)\n",
    "d"
   ]
  },
  {
   "cell_type": "code",
   "execution_count": null,
   "id": "reverse-newfoundland",
   "metadata": {},
   "outputs": [],
   "source": [
    "def plot_density(ax, dataframe):\n",
    "    \n",
    "    '''\n",
    "    This function helps you plot density profiles from snow pits. Use it to iterate through \n",
    "    DataFrame rows and plot the density for each top and bottom segment.\n",
    "    \n",
    "    '''\n",
    "    \n",
    "    for index, row in dataframe.iterrows():\n",
    "        # plot blue bars to represent 10cm density intervals\n",
    "        top = row['# Top (cm)']\n",
    "        bottom = row['Bottom (cm)']\n",
    "        dens = row[\"Avg Density (kg/m3)\"]\n",
    "        ax.plot([dens, dens],[bottom, top], color='blue', linewidth=4)\n",
    "\n",
    "        # plot a red cross to show the spread between A and B samples\n",
    "        densA = row[\"Density A (kg/m3)\"]\n",
    "        densB = row[\"Density B (kg/m3)\"]\n",
    "        middle = bottom + 5.\n",
    "        ax.plot([densA, densB],[middle,middle], color='red')\n",
    "        \n",
    "    return ax\n",
    "\n",
    "fig, ax = plt.subplots()\n",
    "ax = plot_density(ax, d)\n",
    "ax.set_xlim(50, 400)\n",
    "ax.set_ylim(0, 140)\n",
    "ax.grid(color='lightgray', alpha=.5)\n",
    "ax.set_aspect(2)\n",
    "ax.set_title('pit {}: Density Profile'.format(pitID))\n",
    "ax.set_xlabel('Density kg/m3')\n",
    "ax.set_ylabel('Snow Depth (cm)')   "
   ]
  },
  {
   "cell_type": "code",
   "execution_count": null,
   "id": "governmental-solid",
   "metadata": {},
   "outputs": [],
   "source": []
  }
 ],
 "metadata": {
  "kernelspec": {
   "display_name": "Python 3 (ipykernel)",
   "language": "python",
   "name": "python3"
  },
  "language_info": {
   "codemirror_mode": {
    "name": "ipython",
    "version": 3
   },
   "file_extension": ".py",
   "mimetype": "text/x-python",
   "name": "python",
   "nbconvert_exporter": "python",
   "pygments_lexer": "ipython3",
   "version": "3.8.10"
  }
 },
 "nbformat": 4,
 "nbformat_minor": 5
}
