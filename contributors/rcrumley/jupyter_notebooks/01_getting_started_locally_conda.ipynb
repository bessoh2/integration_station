{
 "cells": [
  {
   "cell_type": "markdown",
   "id": "preliminary-reach",
   "metadata": {},
   "source": [
    "# Getting Started Locally with Conda\n",
    "\n",
    "This tutorial will take you through the steps to set up an environment on your local machine using conda."
   ]
  },
  {
   "cell_type": "markdown",
   "id": "0e61f04b-efee-4a1b-a984-2c45235e76b9",
   "metadata": {},
   "source": [
    "### Step 1: Make sure Anaconda or Miniconda is your Python package manager\n",
    "\n",
    "Go to the following website for more details:\n",
    "\n",
    "https://docs.conda.io/projects/conda/en/latest/user-guide/install/download.html"
   ]
  },
  {
   "cell_type": "markdown",
   "id": "a009bd79-cc10-4d84-a337-963e950fb331",
   "metadata": {
    "tags": []
   },
   "source": [
    "### Step 2: Create conda environment used during SnowEx Hackweek 2021\n",
    "\n",
    "1) Download the JupyterHub environment file used during SnowEx Hackweek 2021 \n",
    "\n",
    "https://github.com/snowex-hackweek/docker-image/blob/main/environment.yml\n",
    "\n",
    "2) Create a directory system locally to store files, Jupyter Notebooks, scripts, etc (optional)\n",
    "    - For this tutorial our local directory system looks like this:\n",
    "    - /snowex_local\n",
    "        - /data\n",
    "        - /scripts\n",
    "        - /jupyter_notebooks\n",
    "        - /environment\n",
    "\n",
    "\n",
    "3) Copy the downloaded environment file to the /snowex_local/environment folder\n",
    "\n",
    "4) Open the file with a text editor and change the name of the environment to snowex21 (or any name of your choice)\n",
    "\n",
    "5) Navigate to /snowex_local/environment directory and create the environment using conda commands below:"
   ]
  },
  {
   "cell_type": "code",
   "execution_count": null,
   "id": "eb52ebaa-25ba-484a-a18c-5523e5d9f140",
   "metadata": {},
   "outputs": [],
   "source": [
    "%%bash\n",
    "\n",
    "# change directory to the environment folder\n",
    "cd ../environment\n",
    "# print the working directory to check your location\n",
    "pwd\n",
    "# list the files\n",
    "ls"
   ]
  },
  {
   "cell_type": "markdown",
   "id": "59442ace-44d8-4d3f-b323-04cc9c64e2f0",
   "metadata": {},
   "source": [
    "#### Tips\n",
    "\n",
    "\n",
    "1) If you use a vpn you may have to set up a proxy for the pip/git dependencies\n",
    "1) ....or it may be easier to just turn off the proxy for the environment setup\n",
    "1) The pdal package did not play nice with my local machine (2021 MacOS Big Sur) so I commented it out.\n",
    "1) {insert tips here about conda forge}"
   ]
  },
  {
   "cell_type": "markdown",
   "id": "91d9f4b9-b2b9-417b-a5e7-c12aeca942d9",
   "metadata": {},
   "source": [
    "### Create the environment and package dependencies"
   ]
  },
  {
   "cell_type": "code",
   "execution_count": null,
   "id": "60cfc17d-0982-4d40-85ce-d62b3aeeba45",
   "metadata": {},
   "outputs": [],
   "source": [
    "%%bash\n",
    "\n",
    "cd ../environment\n",
    "# It may take a while to install all the packages\n",
    "# Some of the packages/libraries did not install for me\n",
    "# so I commented them out an recreated the env for the purposes of this tutorial\n",
    "conda env create -f environment.yml"
   ]
  },
  {
   "cell_type": "markdown",
   "id": "d1738a6f-a1ab-4649-9ea8-7005bbf57a5a",
   "metadata": {},
   "source": [
    "For more info a conda and conda environments, got to:\n",
    "\n",
    "Conda CheatSheet\n",
    "https://docs.conda.io/projects/conda/en/4.6.0/_downloads/52a95608c49671267e40c689e0bc00ca/conda-cheatsheet.pdf\n",
    "\n",
    "Conda environments\n",
    "https://docs.conda.io/projects/conda/en/latest/user-guide/tasks/manage-environments.html#creating-an-environment-from-an-environment-yml-file"
   ]
  },
  {
   "cell_type": "markdown",
   "id": "a0a807ef-f5c9-47ff-9add-9bda8de1d4c3",
   "metadata": {},
   "source": [
    "### Step 3: Activate the new snowex21 environment"
   ]
  },
  {
   "cell_type": "code",
   "execution_count": null,
   "id": "0cd39f40-6dd2-4dfc-916a-44911bfa0eb2",
   "metadata": {},
   "outputs": [],
   "source": [
    "%%bash\n",
    "\n",
    "# Once the environment snowex21 has been created, then activate it\n",
    "conda activate snowex21"
   ]
  },
  {
   "cell_type": "markdown",
   "id": "74d6ee0c-5782-43f5-93d2-0f7d7598af8c",
   "metadata": {},
   "source": [
    "#### Tips\n",
    "\n",
    "1) Everything up to this point can be done on the command line\n",
    "1) ....but if you are using this Jupyter notebook for the environment setup, you should shut it down and reopen this notebook in the new environment (snowex21)\n",
    "    - Check if your environment has been activated (snowex21)\n",
    "    - run command: jupyter lab\n"
   ]
  },
  {
   "cell_type": "markdown",
   "id": "e7ed8f63-90ab-488b-b217-91459cb4be50",
   "metadata": {},
   "source": [
    "### Step 4: Check some things about new environment"
   ]
  },
  {
   "cell_type": "code",
   "execution_count": null,
   "id": "1219d6c7-d67d-4fc9-9026-c01f36332f81",
   "metadata": {},
   "outputs": [],
   "source": [
    "%%bash\n",
    "\n",
    "# Check to see if your environment has been set up correctly\n",
    "conda info -v"
   ]
  },
  {
   "cell_type": "code",
   "execution_count": null,
   "id": "41e4e471-1442-4d70-958d-72ed5f759f14",
   "metadata": {},
   "outputs": [],
   "source": [
    "%%bash\n",
    "\n",
    "# Check to see which packages/libraries are added to this environment\n",
    "conda list -v "
   ]
  },
  {
   "cell_type": "code",
   "execution_count": null,
   "id": "f0a59695-e55f-420c-a458-eb4b52a80e02",
   "metadata": {},
   "outputs": [],
   "source": []
  }
 ],
 "metadata": {
  "kernelspec": {
   "display_name": "Python 3 (ipykernel)",
   "language": "python",
   "name": "python3"
  },
  "language_info": {
   "codemirror_mode": {
    "name": "ipython",
    "version": 3
   },
   "file_extension": ".py",
   "mimetype": "text/x-python",
   "name": "python",
   "nbconvert_exporter": "python",
   "pygments_lexer": "ipython3",
   "version": "3.8.10"
  }
 },
 "nbformat": 4,
 "nbformat_minor": 5
}
