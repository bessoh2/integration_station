{
 "cells": [
  {
   "cell_type": "code",
   "execution_count": null,
   "id": "2b74b672",
   "metadata": {},
   "outputs": [],
   "source": [
    "from scripts import read as rdr"
   ]
  },
  {
   "cell_type": "markdown",
   "id": "dbeca815",
   "metadata": {},
   "source": [
    "Note that the below filepath has a different file format from the files returned by NSIDC. I've edited the pattern to match the NSIDC ones that have been subset."
   ]
  },
  {
   "cell_type": "code",
   "execution_count": null,
   "id": "8b6edf0c",
   "metadata": {},
   "outputs": [],
   "source": [
    "filepath = '/Users/jessica/computing/icepyx/test_data/ATL06-20181214041627-Sample.h5'"
   ]
  },
  {
   "cell_type": "code",
   "execution_count": null,
   "id": "9cde6679",
   "metadata": {},
   "outputs": [],
   "source": [
    "path = '/Users/jessica/computing/icepyx/test_data/'"
   ]
  },
  {
   "cell_type": "code",
   "execution_count": null,
   "id": "7318abd0",
   "metadata": {},
   "outputs": [],
   "source": [
    "pattern='processed_ATL{product:2}_{datetime:%Y%m%d%H%M%S}_{rgt:4}{cycle:2}{orbitsegment:2}_{version:3}_{revision:2}.h5'"
   ]
  },
  {
   "cell_type": "code",
   "execution_count": null,
   "id": "9ba248a9",
   "metadata": {},
   "outputs": [],
   "source": [
    "reader = rdr.Read(filepath, pattern)"
   ]
  },
  {
   "cell_type": "code",
   "execution_count": null,
   "id": "d822e390",
   "metadata": {},
   "outputs": [],
   "source": [
    "reader.build_catalog()"
   ]
  },
  {
   "cell_type": "code",
   "execution_count": null,
   "id": "40e2822a",
   "metadata": {},
   "outputs": [],
   "source": [
    "reader.catalog"
   ]
  },
  {
   "cell_type": "code",
   "execution_count": null,
   "id": "8e4c9a34",
   "metadata": {},
   "outputs": [],
   "source": [
    "reader.catalog.gui"
   ]
  },
  {
   "cell_type": "code",
   "execution_count": null,
   "id": "da456203",
   "metadata": {},
   "outputs": [],
   "source": [
    "reader.catalog[\"is2_local\"].read()"
   ]
  },
  {
   "cell_type": "code",
   "execution_count": null,
   "id": "eae3a328",
   "metadata": {},
   "outputs": [],
   "source": []
  },
  {
   "cell_type": "code",
   "execution_count": null,
   "id": "743f7dac",
   "metadata": {},
   "outputs": [],
   "source": []
  }
 ],
 "metadata": {
  "kernelspec": {
   "display_name": "Python 3",
   "language": "python",
   "name": "python3"
  },
  "language_info": {
   "codemirror_mode": {
    "name": "ipython",
    "version": 3
   },
   "file_extension": ".py",
   "mimetype": "text/x-python",
   "name": "python",
   "nbconvert_exporter": "python",
   "pygments_lexer": "ipython3",
   "version": "3.7.6"
  }
 },
 "nbformat": 4,
 "nbformat_minor": 5
}
